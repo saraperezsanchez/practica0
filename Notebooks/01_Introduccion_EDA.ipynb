# -*- coding: utf-8 -*-
"""
Created on Tue Oct 22 16:27:17 2024

@author: Sara
"""

import pandas as pd
import sweetviz as sv

# Cargar el archivo CSV
df = pd.read_csv("loan_test_set.csv", sep=",", skiprows = 1)

print("Nombres de las columnas:")
print(df.columns.tolist())

df['id'] = df['id'].astype(str)
print(df['id'].dtype)

# Generar el reporte de Sweetviz
reporte = sv.analyze(df)

# Guardar el reporte en la carpeta de reports
reporte.show_html('../reports/reporte_sweetviz.html')

