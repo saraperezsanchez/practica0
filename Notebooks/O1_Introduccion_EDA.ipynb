# -*- coding: utf-8 -*-
"""
Created on Tue Oct 22 16:27:17 2024

@author: Sara
"""

import pandas as pd
import sweetviz as sv

# Cargar el archivo CSV
df = pd.read_csv("loan_test_set.csv", delimiter=",", header=0)

# Asegúrate de que la columna problematica esté en formato de texto
df['Notes offered by Prospectus (https://www.lendingclub.com/info/prospectus.action)'] = df['Notes offered by Prospectus (https://www.lendingclub.com/info/prospectus.action)'].astype(str)

# Generar el reporte de Sweetviz
reporte = sv.analyze(df)

# Guardar el reporte en la carpeta de reports
reporte.show_html('../reports/reporte_sweetviz.html')