# -*- coding: utf-8 -*-
"""
Created on Thu Oct 17 20:18:25 2024

@author: Sara
"""

import sweetviz as sv
import pandas as pd

 # Asegúrate de cambiar la ruta
loan_test_set = pd.read_csv("loan_test_set.csv", delimiter = ";")

# Generar el reporte de Sweetviz
reporte = sv.analyze(loan_test_set)

# Guardar el reporte en HTML
reporte.show_html('reporte_sweetviz.html')
